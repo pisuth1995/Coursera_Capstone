{
 "cells": [
  {
   "cell_type": "markdown",
   "metadata": {},
   "source": [
    "# Capstone Project - The Battle of the Neighborhoods\n",
    "### Applied Data Science Capstone by IBM/Coursera"
   ]
  },
  {
   "cell_type": "markdown",
   "metadata": {},
   "source": [
    "## Table of contents\n",
    "* [Introduction: Business Problem](#Introduction)\n",
    "* [Data](#Data)\n",
    "* [Methodology](#Methodology)\n",
    "* [Results and Discussion](#Results&Discussion)\n",
    "* [Conclusion](#Conclusion)"
   ]
  },
  {
   "cell_type": "markdown",
   "metadata": {},
   "source": [
    "# Introduction\n",
    "\n",
    "### Background\n",
    "Toronto is Canada's largest city, the fourth largest in North America, and home to a diverse population of about 2.8 million people. It is a global centre for business, finance, arts and culture and is consistently ranked one of the world's most livable cities.\n",
    "### Problem\n",
    "When you are looking to open a restaurant in a popular city as Tonronto city, how to build a successful restaurant. Of course, food and service are important to the success of a restaurant, but the location can be just as crucial. Therefore, target audience of this project will be people who are looking to open a new restaurant. This project will segment the neighborhoods of Toronto into major clusters and examine their food. This quantifiable analysis can be used to understand the distribution of different cultures and food over Canada's largest city. Also, it can be utilized by a new __food vendor__ who want to open his or her restaurant or by a __government authority__ to examine and study their city’s culture diversity better."
   ]
  },
  {
   "cell_type": "markdown",
   "metadata": {},
   "source": [
    "# Data \n",
    "\n",
    "### Toronto City Dataset\n",
    "Data will be scraped from https://en.wikipedia.org/wiki/List_of_postal_codes_of_Canada:_M. After Toronto City data is scraped, data will be preprocessed. Data is consist of __Post Code__, __Borough__,  and __Neighborhood__."
   ]
  },
  {
   "cell_type": "code",
   "execution_count": 1,
   "metadata": {},
   "outputs": [],
   "source": [
    "from bs4 import BeautifulSoup\n",
    "from pattern.web import download\n",
    "import pandas as pd\n",
    "import numpy as np"
   ]
  },
  {
   "cell_type": "code",
   "execution_count": 2,
   "metadata": {},
   "outputs": [
    {
     "data": {
      "text/html": [
       "<div>\n",
       "<style scoped>\n",
       "    .dataframe tbody tr th:only-of-type {\n",
       "        vertical-align: middle;\n",
       "    }\n",
       "\n",
       "    .dataframe tbody tr th {\n",
       "        vertical-align: top;\n",
       "    }\n",
       "\n",
       "    .dataframe thead th {\n",
       "        text-align: right;\n",
       "    }\n",
       "</style>\n",
       "<table border=\"1\" class=\"dataframe\">\n",
       "  <thead>\n",
       "    <tr style=\"text-align: right;\">\n",
       "      <th></th>\n",
       "      <th>PostalCode</th>\n",
       "      <th>Borough</th>\n",
       "      <th>Neighborhood</th>\n",
       "    </tr>\n",
       "  </thead>\n",
       "  <tbody>\n",
       "    <tr>\n",
       "      <th>0</th>\n",
       "      <td>M1A</td>\n",
       "      <td>Not assigned</td>\n",
       "      <td>Not assigned</td>\n",
       "    </tr>\n",
       "    <tr>\n",
       "      <th>1</th>\n",
       "      <td>M2A</td>\n",
       "      <td>Not assigned</td>\n",
       "      <td>Not assigned</td>\n",
       "    </tr>\n",
       "    <tr>\n",
       "      <th>2</th>\n",
       "      <td>M3A</td>\n",
       "      <td>North York</td>\n",
       "      <td>Parkwoods</td>\n",
       "    </tr>\n",
       "    <tr>\n",
       "      <th>3</th>\n",
       "      <td>M4A</td>\n",
       "      <td>North York</td>\n",
       "      <td>Victoria Village</td>\n",
       "    </tr>\n",
       "    <tr>\n",
       "      <th>4</th>\n",
       "      <td>M5A</td>\n",
       "      <td>Downtown Toronto</td>\n",
       "      <td>Harbourfront</td>\n",
       "    </tr>\n",
       "  </tbody>\n",
       "</table>\n",
       "</div>"
      ],
      "text/plain": [
       "  PostalCode           Borough      Neighborhood\n",
       "0        M1A      Not assigned      Not assigned\n",
       "1        M2A      Not assigned      Not assigned\n",
       "2        M3A        North York         Parkwoods\n",
       "3        M4A        North York  Victoria Village\n",
       "4        M5A  Downtown Toronto      Harbourfront"
      ]
     },
     "execution_count": 2,
     "metadata": {},
     "output_type": "execute_result"
    }
   ],
   "source": [
    "html_doc = download('https://en.wikipedia.org/wiki/List_of_postal_codes_of_Canada:_M')\n",
    "soup = BeautifulSoup(html_doc,'lxml')\n",
    "wiki_table = soup.find('table',class_='wikitable').find_all('tr')\n",
    "toronto_data = []\n",
    "for index, row in enumerate(wiki_table):\n",
    "    if index == 0:\n",
    "        pass\n",
    "    else:\n",
    "        data = row.find_all('td')\n",
    "        postcode = data[0].text\n",
    "        borough = data[1].text\n",
    "        neighborhood = data[2].text.strip()\n",
    "        toronto_data.append([postcode,borough,neighborhood])\n",
    "toronto_df = pd.DataFrame(toronto_data, columns=['PostalCode','Borough','Neighborhood'])\n",
    "toronto_df.head()"
   ]
  },
  {
   "cell_type": "markdown",
   "metadata": {},
   "source": [
    "Only process the cells that have an assigned borough. Ignore cells with a borough that is Not assigned."
   ]
  },
  {
   "cell_type": "code",
   "execution_count": 3,
   "metadata": {},
   "outputs": [
    {
     "data": {
      "text/html": [
       "<div>\n",
       "<style scoped>\n",
       "    .dataframe tbody tr th:only-of-type {\n",
       "        vertical-align: middle;\n",
       "    }\n",
       "\n",
       "    .dataframe tbody tr th {\n",
       "        vertical-align: top;\n",
       "    }\n",
       "\n",
       "    .dataframe thead th {\n",
       "        text-align: right;\n",
       "    }\n",
       "</style>\n",
       "<table border=\"1\" class=\"dataframe\">\n",
       "  <thead>\n",
       "    <tr style=\"text-align: right;\">\n",
       "      <th></th>\n",
       "      <th>PostalCode</th>\n",
       "      <th>Borough</th>\n",
       "      <th>Neighborhood</th>\n",
       "    </tr>\n",
       "  </thead>\n",
       "  <tbody>\n",
       "    <tr>\n",
       "      <th>2</th>\n",
       "      <td>M3A</td>\n",
       "      <td>North York</td>\n",
       "      <td>Parkwoods</td>\n",
       "    </tr>\n",
       "    <tr>\n",
       "      <th>3</th>\n",
       "      <td>M4A</td>\n",
       "      <td>North York</td>\n",
       "      <td>Victoria Village</td>\n",
       "    </tr>\n",
       "    <tr>\n",
       "      <th>4</th>\n",
       "      <td>M5A</td>\n",
       "      <td>Downtown Toronto</td>\n",
       "      <td>Harbourfront</td>\n",
       "    </tr>\n",
       "    <tr>\n",
       "      <th>5</th>\n",
       "      <td>M6A</td>\n",
       "      <td>North York</td>\n",
       "      <td>Lawrence Heights</td>\n",
       "    </tr>\n",
       "    <tr>\n",
       "      <th>6</th>\n",
       "      <td>M6A</td>\n",
       "      <td>North York</td>\n",
       "      <td>Lawrence Manor</td>\n",
       "    </tr>\n",
       "  </tbody>\n",
       "</table>\n",
       "</div>"
      ],
      "text/plain": [
       "  PostalCode           Borough      Neighborhood\n",
       "2        M3A        North York         Parkwoods\n",
       "3        M4A        North York  Victoria Village\n",
       "4        M5A  Downtown Toronto      Harbourfront\n",
       "5        M6A        North York  Lawrence Heights\n",
       "6        M6A        North York    Lawrence Manor"
      ]
     },
     "execution_count": 3,
     "metadata": {},
     "output_type": "execute_result"
    }
   ],
   "source": [
    "toronto_df = toronto_df[toronto_df['Borough'] != 'Not assigned']\n",
    "toronto_df.head()"
   ]
  },
  {
   "cell_type": "markdown",
   "metadata": {},
   "source": [
    "More than one neighborhood can exist in one postal code area."
   ]
  },
  {
   "cell_type": "code",
   "execution_count": 4,
   "metadata": {},
   "outputs": [
    {
     "data": {
      "text/html": [
       "<div>\n",
       "<style scoped>\n",
       "    .dataframe tbody tr th:only-of-type {\n",
       "        vertical-align: middle;\n",
       "    }\n",
       "\n",
       "    .dataframe tbody tr th {\n",
       "        vertical-align: top;\n",
       "    }\n",
       "\n",
       "    .dataframe thead th {\n",
       "        text-align: right;\n",
       "    }\n",
       "</style>\n",
       "<table border=\"1\" class=\"dataframe\">\n",
       "  <thead>\n",
       "    <tr style=\"text-align: right;\">\n",
       "      <th></th>\n",
       "      <th>PostalCode</th>\n",
       "      <th>Borough</th>\n",
       "      <th>Neighborhood</th>\n",
       "    </tr>\n",
       "  </thead>\n",
       "  <tbody>\n",
       "    <tr>\n",
       "      <th>0</th>\n",
       "      <td>M3A</td>\n",
       "      <td>North York</td>\n",
       "      <td>Parkwoods</td>\n",
       "    </tr>\n",
       "    <tr>\n",
       "      <th>1</th>\n",
       "      <td>M4A</td>\n",
       "      <td>North York</td>\n",
       "      <td>Victoria Village</td>\n",
       "    </tr>\n",
       "    <tr>\n",
       "      <th>2</th>\n",
       "      <td>M5A</td>\n",
       "      <td>Downtown Toronto</td>\n",
       "      <td>Harbourfront</td>\n",
       "    </tr>\n",
       "    <tr>\n",
       "      <th>3</th>\n",
       "      <td>M6A</td>\n",
       "      <td>North York</td>\n",
       "      <td>Lawrence Heights, Lawrence Manor</td>\n",
       "    </tr>\n",
       "    <tr>\n",
       "      <th>4</th>\n",
       "      <td>M7A</td>\n",
       "      <td>Downtown Toronto</td>\n",
       "      <td>Queen's Park</td>\n",
       "    </tr>\n",
       "  </tbody>\n",
       "</table>\n",
       "</div>"
      ],
      "text/plain": [
       "  PostalCode           Borough                      Neighborhood\n",
       "0        M3A        North York                         Parkwoods\n",
       "1        M4A        North York                  Victoria Village\n",
       "2        M5A  Downtown Toronto                      Harbourfront\n",
       "3        M6A        North York  Lawrence Heights, Lawrence Manor\n",
       "4        M7A  Downtown Toronto                      Queen's Park"
      ]
     },
     "execution_count": 4,
     "metadata": {},
     "output_type": "execute_result"
    }
   ],
   "source": [
    "toronto_df['Neighborhood'] = toronto_df.groupby(['PostalCode','Borough']).transform(lambda x: ', '.join(x))\n",
    "toronto_df = toronto_df.drop_duplicates().reset_index(drop=True)\n",
    "toronto_df.head()"
   ]
  },
  {
   "cell_type": "markdown",
   "metadata": {},
   "source": [
    "If a cell has a borough but a Not assigned neighborhood, then the neighborhood will be the same as the borough. So for the 9th cell in the table on the Wikipedia page, the value of the Borough and the Neighborhood columns will be Queen's Park."
   ]
  },
  {
   "cell_type": "code",
   "execution_count": 5,
   "metadata": {},
   "outputs": [
    {
     "data": {
      "text/html": [
       "<div>\n",
       "<style scoped>\n",
       "    .dataframe tbody tr th:only-of-type {\n",
       "        vertical-align: middle;\n",
       "    }\n",
       "\n",
       "    .dataframe tbody tr th {\n",
       "        vertical-align: top;\n",
       "    }\n",
       "\n",
       "    .dataframe thead th {\n",
       "        text-align: right;\n",
       "    }\n",
       "</style>\n",
       "<table border=\"1\" class=\"dataframe\">\n",
       "  <thead>\n",
       "    <tr style=\"text-align: right;\">\n",
       "      <th></th>\n",
       "      <th>PostalCode</th>\n",
       "      <th>Borough</th>\n",
       "      <th>Neighborhood</th>\n",
       "    </tr>\n",
       "  </thead>\n",
       "  <tbody>\n",
       "    <tr>\n",
       "      <th>0</th>\n",
       "      <td>M3A</td>\n",
       "      <td>North York</td>\n",
       "      <td>Parkwoods</td>\n",
       "    </tr>\n",
       "    <tr>\n",
       "      <th>1</th>\n",
       "      <td>M4A</td>\n",
       "      <td>North York</td>\n",
       "      <td>Victoria Village</td>\n",
       "    </tr>\n",
       "    <tr>\n",
       "      <th>2</th>\n",
       "      <td>M5A</td>\n",
       "      <td>Downtown Toronto</td>\n",
       "      <td>Harbourfront</td>\n",
       "    </tr>\n",
       "    <tr>\n",
       "      <th>3</th>\n",
       "      <td>M6A</td>\n",
       "      <td>North York</td>\n",
       "      <td>Lawrence Heights, Lawrence Manor</td>\n",
       "    </tr>\n",
       "    <tr>\n",
       "      <th>4</th>\n",
       "      <td>M7A</td>\n",
       "      <td>Downtown Toronto</td>\n",
       "      <td>Queen's Park</td>\n",
       "    </tr>\n",
       "  </tbody>\n",
       "</table>\n",
       "</div>"
      ],
      "text/plain": [
       "  PostalCode           Borough                      Neighborhood\n",
       "0        M3A        North York                         Parkwoods\n",
       "1        M4A        North York                  Victoria Village\n",
       "2        M5A  Downtown Toronto                      Harbourfront\n",
       "3        M6A        North York  Lawrence Heights, Lawrence Manor\n",
       "4        M7A  Downtown Toronto                      Queen's Park"
      ]
     },
     "execution_count": 5,
     "metadata": {},
     "output_type": "execute_result"
    }
   ],
   "source": [
    "toronto_df['Neighborhood'] = toronto_df.apply(lambda row: row['Borough'] if row['Neighborhood'] == 'Not assigned' else row['Neighborhood'], axis=1)\n",
    "toronto_df.head()"
   ]
  },
  {
   "cell_type": "code",
   "execution_count": 6,
   "metadata": {},
   "outputs": [
    {
     "data": {
      "text/plain": [
       "(103, 3)"
      ]
     },
     "execution_count": 6,
     "metadata": {},
     "output_type": "execute_result"
    }
   ],
   "source": [
    "toronto_df.shape"
   ]
  },
  {
   "cell_type": "markdown",
   "metadata": {},
   "source": [
    "### Geographical Coordinates\n",
    "Toronto City data will be mapped with the geographical coordinates of each postal code of Toronto City. Geographical Coordinates data is consist of __Post Code__, __Latitude__,  and __Longitude__. Link: http://cocl.us/Geospatial_data"
   ]
  },
  {
   "cell_type": "code",
   "execution_count": 7,
   "metadata": {},
   "outputs": [
    {
     "data": {
      "text/html": [
       "<div>\n",
       "<style scoped>\n",
       "    .dataframe tbody tr th:only-of-type {\n",
       "        vertical-align: middle;\n",
       "    }\n",
       "\n",
       "    .dataframe tbody tr th {\n",
       "        vertical-align: top;\n",
       "    }\n",
       "\n",
       "    .dataframe thead th {\n",
       "        text-align: right;\n",
       "    }\n",
       "</style>\n",
       "<table border=\"1\" class=\"dataframe\">\n",
       "  <thead>\n",
       "    <tr style=\"text-align: right;\">\n",
       "      <th></th>\n",
       "      <th>Postal Code</th>\n",
       "      <th>Latitude</th>\n",
       "      <th>Longitude</th>\n",
       "    </tr>\n",
       "  </thead>\n",
       "  <tbody>\n",
       "    <tr>\n",
       "      <th>0</th>\n",
       "      <td>M1B</td>\n",
       "      <td>43.806686</td>\n",
       "      <td>-79.194353</td>\n",
       "    </tr>\n",
       "    <tr>\n",
       "      <th>1</th>\n",
       "      <td>M1C</td>\n",
       "      <td>43.784535</td>\n",
       "      <td>-79.160497</td>\n",
       "    </tr>\n",
       "    <tr>\n",
       "      <th>2</th>\n",
       "      <td>M1E</td>\n",
       "      <td>43.763573</td>\n",
       "      <td>-79.188711</td>\n",
       "    </tr>\n",
       "    <tr>\n",
       "      <th>3</th>\n",
       "      <td>M1G</td>\n",
       "      <td>43.770992</td>\n",
       "      <td>-79.216917</td>\n",
       "    </tr>\n",
       "    <tr>\n",
       "      <th>4</th>\n",
       "      <td>M1H</td>\n",
       "      <td>43.773136</td>\n",
       "      <td>-79.239476</td>\n",
       "    </tr>\n",
       "  </tbody>\n",
       "</table>\n",
       "</div>"
      ],
      "text/plain": [
       "  Postal Code   Latitude  Longitude\n",
       "0         M1B  43.806686 -79.194353\n",
       "1         M1C  43.784535 -79.160497\n",
       "2         M1E  43.763573 -79.188711\n",
       "3         M1G  43.770992 -79.216917\n",
       "4         M1H  43.773136 -79.239476"
      ]
     },
     "execution_count": 7,
     "metadata": {},
     "output_type": "execute_result"
    }
   ],
   "source": [
    "geographical_coordinates_df = pd.read_csv('Geospatial_Coordinates.csv')\n",
    "geographical_coordinates_df.head()"
   ]
  },
  {
   "cell_type": "code",
   "execution_count": 8,
   "metadata": {},
   "outputs": [
    {
     "data": {
      "text/html": [
       "<div>\n",
       "<style scoped>\n",
       "    .dataframe tbody tr th:only-of-type {\n",
       "        vertical-align: middle;\n",
       "    }\n",
       "\n",
       "    .dataframe tbody tr th {\n",
       "        vertical-align: top;\n",
       "    }\n",
       "\n",
       "    .dataframe thead th {\n",
       "        text-align: right;\n",
       "    }\n",
       "</style>\n",
       "<table border=\"1\" class=\"dataframe\">\n",
       "  <thead>\n",
       "    <tr style=\"text-align: right;\">\n",
       "      <th></th>\n",
       "      <th>PostalCode</th>\n",
       "      <th>Borough</th>\n",
       "      <th>Neighborhood</th>\n",
       "      <th>Latitude</th>\n",
       "      <th>Longitude</th>\n",
       "    </tr>\n",
       "  </thead>\n",
       "  <tbody>\n",
       "    <tr>\n",
       "      <th>0</th>\n",
       "      <td>M3A</td>\n",
       "      <td>North York</td>\n",
       "      <td>Parkwoods</td>\n",
       "      <td>43.753259</td>\n",
       "      <td>-79.329656</td>\n",
       "    </tr>\n",
       "    <tr>\n",
       "      <th>1</th>\n",
       "      <td>M4A</td>\n",
       "      <td>North York</td>\n",
       "      <td>Victoria Village</td>\n",
       "      <td>43.725882</td>\n",
       "      <td>-79.315572</td>\n",
       "    </tr>\n",
       "    <tr>\n",
       "      <th>2</th>\n",
       "      <td>M5A</td>\n",
       "      <td>Downtown Toronto</td>\n",
       "      <td>Harbourfront</td>\n",
       "      <td>43.654260</td>\n",
       "      <td>-79.360636</td>\n",
       "    </tr>\n",
       "    <tr>\n",
       "      <th>3</th>\n",
       "      <td>M6A</td>\n",
       "      <td>North York</td>\n",
       "      <td>Lawrence Heights, Lawrence Manor</td>\n",
       "      <td>43.718518</td>\n",
       "      <td>-79.464763</td>\n",
       "    </tr>\n",
       "    <tr>\n",
       "      <th>4</th>\n",
       "      <td>M7A</td>\n",
       "      <td>Downtown Toronto</td>\n",
       "      <td>Queen's Park</td>\n",
       "      <td>43.662301</td>\n",
       "      <td>-79.389494</td>\n",
       "    </tr>\n",
       "  </tbody>\n",
       "</table>\n",
       "</div>"
      ],
      "text/plain": [
       "  PostalCode           Borough                      Neighborhood   Latitude  \\\n",
       "0        M3A        North York                         Parkwoods  43.753259   \n",
       "1        M4A        North York                  Victoria Village  43.725882   \n",
       "2        M5A  Downtown Toronto                      Harbourfront  43.654260   \n",
       "3        M6A        North York  Lawrence Heights, Lawrence Manor  43.718518   \n",
       "4        M7A  Downtown Toronto                      Queen's Park  43.662301   \n",
       "\n",
       "   Longitude  \n",
       "0 -79.329656  \n",
       "1 -79.315572  \n",
       "2 -79.360636  \n",
       "3 -79.464763  \n",
       "4 -79.389494  "
      ]
     },
     "execution_count": 8,
     "metadata": {},
     "output_type": "execute_result"
    }
   ],
   "source": [
    "toronto_df = pd.merge(toronto_df, geographical_coordinates_df, left_on='PostalCode', right_on='Postal Code')\n",
    "toronto_df = toronto_df[['PostalCode', 'Borough', 'Neighborhood', 'Latitude', 'Longitude']]\n",
    "toronto_df.head()"
   ]
  },
  {
   "cell_type": "code",
   "execution_count": 9,
   "metadata": {},
   "outputs": [
    {
     "data": {
      "text/plain": [
       "(103, 5)"
      ]
     },
     "execution_count": 9,
     "metadata": {},
     "output_type": "execute_result"
    }
   ],
   "source": [
    "toronto_df.shape"
   ]
  },
  {
   "cell_type": "markdown",
   "metadata": {},
   "source": [
    "### Foursquare API\n",
    "Foursquare API, a location data provider, will be used to find the venues on each postal code zone using a radius based on the area cover by each neighborhoods. Data from Foursquare API is consist of __Venue Name__, __Venue Latitude__,\t__Venue Longitude__, and __Venue Category__."
   ]
  },
  {
   "cell_type": "code",
   "execution_count": 10,
   "metadata": {},
   "outputs": [],
   "source": [
    "import requests"
   ]
  },
  {
   "cell_type": "markdown",
   "metadata": {},
   "source": [
    "Define Foursquare Credentials and Version"
   ]
  },
  {
   "cell_type": "code",
   "execution_count": 11,
   "metadata": {},
   "outputs": [
    {
     "name": "stdout",
     "output_type": "stream",
     "text": [
      "Your credentails:\n",
      "CLIENT_ID: LJD5RVRNHFATKRW32JNUHPRAMOEL02ZTBRA1VFMNCT4DU55Y\n",
      "CLIENT_SECRET:MJ1XJZU0ZWGUJJHUUY3LRGDM13SWTXQZJR2GO1RWL5NKCS45\n"
     ]
    }
   ],
   "source": [
    "CLIENT_ID = 'LJD5RVRNHFATKRW32JNUHPRAMOEL02ZTBRA1VFMNCT4DU55Y' # your Foursquare ID\n",
    "CLIENT_SECRET = 'MJ1XJZU0ZWGUJJHUUY3LRGDM13SWTXQZJR2GO1RWL5NKCS45' # your Foursquare Secret\n",
    "VERSION = '20180605' # Foursquare API version\n",
    "LIMIT = 100 # limit of number of venues returned by Foursquare API\n",
    "print('Your credentails:')\n",
    "print('CLIENT_ID: ' + CLIENT_ID)\n",
    "print('CLIENT_SECRET:' + CLIENT_SECRET)"
   ]
  },
  {
   "cell_type": "code",
   "execution_count": 12,
   "metadata": {},
   "outputs": [],
   "source": [
    "def getNearbyVenues(names, latitudes, longitudes, radius=500):\n",
    "    \n",
    "    venues_list=[]\n",
    "    for name, lat, lng in zip(names, latitudes, longitudes):\n",
    "#         print(name)\n",
    "            \n",
    "        # create the API request URL\n",
    "        url = 'https://api.foursquare.com/v2/venues/explore?&client_id={}&client_secret={}&v={}&ll={},{}&radius={}&limit={}'.format(\n",
    "            CLIENT_ID, \n",
    "            CLIENT_SECRET, \n",
    "            VERSION, \n",
    "            lat, \n",
    "            lng, \n",
    "            radius, \n",
    "            LIMIT)\n",
    "            \n",
    "        # make the GET request\n",
    "        results = requests.get(url).json()[\"response\"]['groups'][0]['items']\n",
    "        \n",
    "        # return only relevant information for each nearby venue\n",
    "        venues_list.append([(\n",
    "            name, \n",
    "            lat, \n",
    "            lng, \n",
    "            v['venue']['name'], \n",
    "            v['venue']['location']['lat'], \n",
    "            v['venue']['location']['lng'],  \n",
    "            v['venue']['categories'][0]['name']) for v in results])\n",
    "\n",
    "    nearby_venues = pd.DataFrame([item for venue_list in venues_list for item in venue_list])\n",
    "    nearby_venues.columns = ['Neighborhood', \n",
    "                  'Neighborhood Latitude', \n",
    "                  'Neighborhood Longitude', \n",
    "                  'Venue', \n",
    "                  'Venue Latitude', \n",
    "                  'Venue Longitude', \n",
    "                  'Venue Category']\n",
    "    return(nearby_venues)"
   ]
  },
  {
   "cell_type": "code",
   "execution_count": 13,
   "metadata": {},
   "outputs": [
    {
     "data": {
      "text/html": [
       "<div>\n",
       "<style scoped>\n",
       "    .dataframe tbody tr th:only-of-type {\n",
       "        vertical-align: middle;\n",
       "    }\n",
       "\n",
       "    .dataframe tbody tr th {\n",
       "        vertical-align: top;\n",
       "    }\n",
       "\n",
       "    .dataframe thead th {\n",
       "        text-align: right;\n",
       "    }\n",
       "</style>\n",
       "<table border=\"1\" class=\"dataframe\">\n",
       "  <thead>\n",
       "    <tr style=\"text-align: right;\">\n",
       "      <th></th>\n",
       "      <th>Neighborhood</th>\n",
       "      <th>Neighborhood Latitude</th>\n",
       "      <th>Neighborhood Longitude</th>\n",
       "      <th>Venue</th>\n",
       "      <th>Venue Latitude</th>\n",
       "      <th>Venue Longitude</th>\n",
       "      <th>Venue Category</th>\n",
       "    </tr>\n",
       "  </thead>\n",
       "  <tbody>\n",
       "    <tr>\n",
       "      <th>0</th>\n",
       "      <td>Parkwoods</td>\n",
       "      <td>43.753259</td>\n",
       "      <td>-79.329656</td>\n",
       "      <td>Brookbanks Park</td>\n",
       "      <td>43.751976</td>\n",
       "      <td>-79.332140</td>\n",
       "      <td>Park</td>\n",
       "    </tr>\n",
       "    <tr>\n",
       "      <th>1</th>\n",
       "      <td>Parkwoods</td>\n",
       "      <td>43.753259</td>\n",
       "      <td>-79.329656</td>\n",
       "      <td>Variety Store</td>\n",
       "      <td>43.751974</td>\n",
       "      <td>-79.333114</td>\n",
       "      <td>Food &amp; Drink Shop</td>\n",
       "    </tr>\n",
       "    <tr>\n",
       "      <th>2</th>\n",
       "      <td>Victoria Village</td>\n",
       "      <td>43.725882</td>\n",
       "      <td>-79.315572</td>\n",
       "      <td>Victoria Village Arena</td>\n",
       "      <td>43.723481</td>\n",
       "      <td>-79.315635</td>\n",
       "      <td>Hockey Arena</td>\n",
       "    </tr>\n",
       "    <tr>\n",
       "      <th>3</th>\n",
       "      <td>Victoria Village</td>\n",
       "      <td>43.725882</td>\n",
       "      <td>-79.315572</td>\n",
       "      <td>Tim Hortons</td>\n",
       "      <td>43.725517</td>\n",
       "      <td>-79.313103</td>\n",
       "      <td>Coffee Shop</td>\n",
       "    </tr>\n",
       "    <tr>\n",
       "      <th>4</th>\n",
       "      <td>Victoria Village</td>\n",
       "      <td>43.725882</td>\n",
       "      <td>-79.315572</td>\n",
       "      <td>Portugril</td>\n",
       "      <td>43.725819</td>\n",
       "      <td>-79.312785</td>\n",
       "      <td>Portuguese Restaurant</td>\n",
       "    </tr>\n",
       "  </tbody>\n",
       "</table>\n",
       "</div>"
      ],
      "text/plain": [
       "       Neighborhood  Neighborhood Latitude  Neighborhood Longitude  \\\n",
       "0         Parkwoods              43.753259              -79.329656   \n",
       "1         Parkwoods              43.753259              -79.329656   \n",
       "2  Victoria Village              43.725882              -79.315572   \n",
       "3  Victoria Village              43.725882              -79.315572   \n",
       "4  Victoria Village              43.725882              -79.315572   \n",
       "\n",
       "                    Venue  Venue Latitude  Venue Longitude  \\\n",
       "0         Brookbanks Park       43.751976       -79.332140   \n",
       "1           Variety Store       43.751974       -79.333114   \n",
       "2  Victoria Village Arena       43.723481       -79.315635   \n",
       "3             Tim Hortons       43.725517       -79.313103   \n",
       "4               Portugril       43.725819       -79.312785   \n",
       "\n",
       "          Venue Category  \n",
       "0                   Park  \n",
       "1      Food & Drink Shop  \n",
       "2           Hockey Arena  \n",
       "3            Coffee Shop  \n",
       "4  Portuguese Restaurant  "
      ]
     },
     "execution_count": 13,
     "metadata": {},
     "output_type": "execute_result"
    }
   ],
   "source": [
    "toronto_venues_df = getNearbyVenues(names=toronto_df['Neighborhood'], latitudes=toronto_df['Latitude'], \n",
    "                                    longitudes=toronto_df['Longitude'])\n",
    "toronto_venues_df.head()"
   ]
  },
  {
   "cell_type": "code",
   "execution_count": 14,
   "metadata": {},
   "outputs": [],
   "source": [
    "toronto_venues_df.to_csv('toronto_venues.csv')"
   ]
  },
  {
   "cell_type": "markdown",
   "metadata": {},
   "source": [
    "# Methodology"
   ]
  },
  {
   "cell_type": "markdown",
   "metadata": {},
   "source": [
    "### Exploratory Data Analysis"
   ]
  },
  {
   "cell_type": "code",
   "execution_count": 15,
   "metadata": {},
   "outputs": [],
   "source": [
    "import matplotlib.pyplot as plt\n",
    "import seaborn as sns\n",
    "%matplotlib inline"
   ]
  },
  {
   "cell_type": "markdown",
   "metadata": {},
   "source": [
    "Use geopy library to get the latitude and longitude values of Toronto City."
   ]
  },
  {
   "cell_type": "code",
   "execution_count": 16,
   "metadata": {},
   "outputs": [
    {
     "name": "stdout",
     "output_type": "stream",
     "text": [
      "The geograpical coordinate of Toronto are 43.653963, -79.387207.\n"
     ]
    }
   ],
   "source": [
    "from geopy.geocoders import Nominatim # convert an address into latitude and longitude values\n",
    "\n",
    "address = 'Toronto'\n",
    "geolocator = Nominatim(user_agent=\"ny_explorer\")\n",
    "location = geolocator.geocode(address)\n",
    "latitude = location.latitude\n",
    "longitude = location.longitude\n",
    "print('The geograpical coordinate of Toronto are {}, {}.'.format(latitude, longitude))"
   ]
  },
  {
   "cell_type": "markdown",
   "metadata": {},
   "source": [
    "Create a map of Toronto with neighborhoods superimposed on top."
   ]
  },
  {
   "cell_type": "code",
   "execution_count": 17,
   "metadata": {},
   "outputs": [
    {
     "data": {
      "text/html": [
       "<div style=\"width:100%;\"><div style=\"position:relative;width:100%;height:0;padding-bottom:60%;\"><iframe src=\"data:text/html;charset=utf-8;base64,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\" style=\"position:absolute;width:100%;height:100%;left:0;top:0;border:none !important;\" allowfullscreen webkitallowfullscreen mozallowfullscreen></iframe></div></div>"
      ],
      "text/plain": [
       "<folium.folium.Map at 0x24c2e437eb8>"
      ]
     },
     "execution_count": 17,
     "metadata": {},
     "output_type": "execute_result"
    }
   ],
   "source": [
    "import folium\n",
    "# create map of Toronto using latitude and longitude values\n",
    "map_toronto = folium.Map(location=[latitude, longitude], zoom_start=10)\n",
    "# add markers to map\n",
    "for lat, lng, borough, neighborhood in zip(toronto_df['Latitude'], toronto_df['Longitude'], toronto_df['Borough'], toronto_df['Neighborhood']):\n",
    "    label = '{}, {}'.format(neighborhood, borough)\n",
    "    label = folium.Popup(label, parse_html=True)\n",
    "    folium.CircleMarker(\n",
    "        [lat, lng],\n",
    "        radius=5,\n",
    "        popup=label,\n",
    "        color='blue',\n",
    "        fill=True,\n",
    "        fill_color='#3186cc',\n",
    "        fill_opacity=0.7,\n",
    "        parse_html=False).add_to(map_toronto)  \n",
    "map_toronto"
   ]
  },
  {
   "cell_type": "markdown",
   "metadata": {},
   "source": [
    "How many venues in Toronto city?"
   ]
  },
  {
   "cell_type": "code",
   "execution_count": 18,
   "metadata": {},
   "outputs": [
    {
     "data": {
      "text/plain": [
       "(2209, 7)"
      ]
     },
     "execution_count": 18,
     "metadata": {},
     "output_type": "execute_result"
    }
   ],
   "source": [
    "toronto_venues_df.shape"
   ]
  },
  {
   "cell_type": "markdown",
   "metadata": {},
   "source": [
    "It is found that there is a total of 2209 venues. How many unique categories?"
   ]
  },
  {
   "cell_type": "code",
   "execution_count": 19,
   "metadata": {
    "scrolled": true
   },
   "outputs": [
    {
     "name": "stdout",
     "output_type": "stream",
     "text": [
      "There are 273 unique categories\n"
     ]
    }
   ],
   "source": [
    "unique_category = toronto_venues_df['Venue Category'].unique()\n",
    "print('There are '+str(len(unique_category))+' unique categories')"
   ]
  },
  {
   "cell_type": "markdown",
   "metadata": {},
   "source": [
    "### Data Cleaning\n",
    "Because of our objective is to understand the distribution of different cultures and food, so we have to remove all the venues which is generalized categories."
   ]
  },
  {
   "cell_type": "code",
   "execution_count": 20,
   "metadata": {},
   "outputs": [
    {
     "name": "stdout",
     "output_type": "stream",
     "text": [
      "There are 49 food categories.\n",
      "There are 224 general categories.\n"
     ]
    }
   ],
   "source": [
    "general_category = []\n",
    "food_category = []\n",
    "for cat in unique_category:\n",
    "    if 'Restaurant' in cat and cat != 'Restaurant':\n",
    "        food_category.append(cat)\n",
    "    else:\n",
    "        general_category.append(cat)\n",
    "print('There are '+str(len(food_category))+' food categories.')\n",
    "print('There are '+str(len(general_category))+' general categories.')"
   ]
  },
  {
   "cell_type": "markdown",
   "metadata": {},
   "source": [
    "There are some category about food in general categories. Then, manually select and add them to food categories."
   ]
  },
  {
   "cell_type": "code",
   "execution_count": 21,
   "metadata": {
    "scrolled": true
   },
   "outputs": [
    {
     "name": "stdout",
     "output_type": "stream",
     "text": [
      "There are 92 food categories.\n"
     ]
    }
   ],
   "source": [
    "food_category += ['Food & Drink Shop', 'Coffee Shop', 'Bakery', 'Breakfast Spot', 'Chocolate Shop', 'Dessert Shop', 'Café',\n",
    "                  'Ice Cream Shop', 'Beer Store', 'Health Food Store', 'Beer Bar', 'Burger Joint', 'Fried Chicken Joint',\n",
    "                  'Nightclub', 'Smoothie Shop', 'Sandwich Place', 'Bar', 'Gastropub', 'Pizza Place', 'Tea Room', 'Taco Place',\n",
    "                  'Steakhouse', 'Juice Bar', 'Bubble Tea Shop', 'Wine Bar', 'BBQ Joint', 'Food Truck', 'Cocktail Bar',\n",
    "                  'Jazz Club', 'Cheese Shop', 'Fish & Chips Shop', 'Gourmet Shop', 'Irish Pub', 'Salad Place', 'Donut Shop',\n",
    "                  'Candy Store', 'Frozen Yogurt Shop', 'Food Court', 'Noodle House', 'Cupcake Shop', 'Fruit & Vegetable Store',\n",
    "                  'Gay Bar', 'Wine Shop']\n",
    "print('There are '+str(len(food_category))+' food categories.')"
   ]
  },
  {
   "cell_type": "markdown",
   "metadata": {},
   "source": [
    "Remove all the venues which is generalized categories."
   ]
  },
  {
   "cell_type": "code",
   "execution_count": 22,
   "metadata": {
    "scrolled": true
   },
   "outputs": [
    {
     "data": {
      "text/html": [
       "<div>\n",
       "<style scoped>\n",
       "    .dataframe tbody tr th:only-of-type {\n",
       "        vertical-align: middle;\n",
       "    }\n",
       "\n",
       "    .dataframe tbody tr th {\n",
       "        vertical-align: top;\n",
       "    }\n",
       "\n",
       "    .dataframe thead th {\n",
       "        text-align: right;\n",
       "    }\n",
       "</style>\n",
       "<table border=\"1\" class=\"dataframe\">\n",
       "  <thead>\n",
       "    <tr style=\"text-align: right;\">\n",
       "      <th></th>\n",
       "      <th>Neighborhood</th>\n",
       "      <th>Neighborhood Latitude</th>\n",
       "      <th>Neighborhood Longitude</th>\n",
       "      <th>Venue</th>\n",
       "      <th>Venue Latitude</th>\n",
       "      <th>Venue Longitude</th>\n",
       "      <th>Venue Category</th>\n",
       "    </tr>\n",
       "  </thead>\n",
       "  <tbody>\n",
       "    <tr>\n",
       "      <th>1</th>\n",
       "      <td>Parkwoods</td>\n",
       "      <td>43.753259</td>\n",
       "      <td>-79.329656</td>\n",
       "      <td>Variety Store</td>\n",
       "      <td>43.751974</td>\n",
       "      <td>-79.333114</td>\n",
       "      <td>Food &amp; Drink Shop</td>\n",
       "    </tr>\n",
       "    <tr>\n",
       "      <th>3</th>\n",
       "      <td>Victoria Village</td>\n",
       "      <td>43.725882</td>\n",
       "      <td>-79.315572</td>\n",
       "      <td>Tim Hortons</td>\n",
       "      <td>43.725517</td>\n",
       "      <td>-79.313103</td>\n",
       "      <td>Coffee Shop</td>\n",
       "    </tr>\n",
       "    <tr>\n",
       "      <th>4</th>\n",
       "      <td>Victoria Village</td>\n",
       "      <td>43.725882</td>\n",
       "      <td>-79.315572</td>\n",
       "      <td>Portugril</td>\n",
       "      <td>43.725819</td>\n",
       "      <td>-79.312785</td>\n",
       "      <td>Portuguese Restaurant</td>\n",
       "    </tr>\n",
       "    <tr>\n",
       "      <th>5</th>\n",
       "      <td>Victoria Village</td>\n",
       "      <td>43.725882</td>\n",
       "      <td>-79.315572</td>\n",
       "      <td>The Frig</td>\n",
       "      <td>43.727051</td>\n",
       "      <td>-79.317418</td>\n",
       "      <td>French Restaurant</td>\n",
       "    </tr>\n",
       "    <tr>\n",
       "      <th>7</th>\n",
       "      <td>Harbourfront</td>\n",
       "      <td>43.654260</td>\n",
       "      <td>-79.360636</td>\n",
       "      <td>Roselle Desserts</td>\n",
       "      <td>43.653447</td>\n",
       "      <td>-79.362017</td>\n",
       "      <td>Bakery</td>\n",
       "    </tr>\n",
       "  </tbody>\n",
       "</table>\n",
       "</div>"
      ],
      "text/plain": [
       "       Neighborhood  Neighborhood Latitude  Neighborhood Longitude  \\\n",
       "1         Parkwoods              43.753259              -79.329656   \n",
       "3  Victoria Village              43.725882              -79.315572   \n",
       "4  Victoria Village              43.725882              -79.315572   \n",
       "5  Victoria Village              43.725882              -79.315572   \n",
       "7      Harbourfront              43.654260              -79.360636   \n",
       "\n",
       "              Venue  Venue Latitude  Venue Longitude         Venue Category  \n",
       "1     Variety Store       43.751974       -79.333114      Food & Drink Shop  \n",
       "3       Tim Hortons       43.725517       -79.313103            Coffee Shop  \n",
       "4         Portugril       43.725819       -79.312785  Portuguese Restaurant  \n",
       "5          The Frig       43.727051       -79.317418      French Restaurant  \n",
       "7  Roselle Desserts       43.653447       -79.362017                 Bakery  "
      ]
     },
     "execution_count": 22,
     "metadata": {},
     "output_type": "execute_result"
    }
   ],
   "source": [
    "toronto_food_venues_df = toronto_venues_df[toronto_venues_df['Venue Category'].isin(food_category)]\n",
    "toronto_food_venues_df.head()"
   ]
  },
  {
   "cell_type": "markdown",
   "metadata": {},
   "source": [
    "How many food venues in Toronto city?"
   ]
  },
  {
   "cell_type": "code",
   "execution_count": 23,
   "metadata": {},
   "outputs": [
    {
     "data": {
      "text/plain": [
       "(1238, 7)"
      ]
     },
     "execution_count": 23,
     "metadata": {},
     "output_type": "execute_result"
    }
   ],
   "source": [
    "toronto_food_venues_df.shape"
   ]
  },
  {
   "cell_type": "markdown",
   "metadata": {},
   "source": [
    "It is found that there is a total of 1238 food venues."
   ]
  },
  {
   "cell_type": "markdown",
   "metadata": {},
   "source": [
    "### Feature Engineering"
   ]
  },
  {
   "cell_type": "markdown",
   "metadata": {},
   "source": [
    "First of all, using one hot encoding to convert categorical variables which are venue categories into a form that could be provided to ML algorithms to do a better job in prediction."
   ]
  },
  {
   "cell_type": "code",
   "execution_count": 24,
   "metadata": {},
   "outputs": [
    {
     "data": {
      "text/html": [
       "<div>\n",
       "<style scoped>\n",
       "    .dataframe tbody tr th:only-of-type {\n",
       "        vertical-align: middle;\n",
       "    }\n",
       "\n",
       "    .dataframe tbody tr th {\n",
       "        vertical-align: top;\n",
       "    }\n",
       "\n",
       "    .dataframe thead th {\n",
       "        text-align: right;\n",
       "    }\n",
       "</style>\n",
       "<table border=\"1\" class=\"dataframe\">\n",
       "  <thead>\n",
       "    <tr style=\"text-align: right;\">\n",
       "      <th></th>\n",
       "      <th>Neighborhood</th>\n",
       "      <th>Afghan Restaurant</th>\n",
       "      <th>American Restaurant</th>\n",
       "      <th>Asian Restaurant</th>\n",
       "      <th>BBQ Joint</th>\n",
       "      <th>Bakery</th>\n",
       "      <th>Bar</th>\n",
       "      <th>Beer Bar</th>\n",
       "      <th>Beer Store</th>\n",
       "      <th>Belgian Restaurant</th>\n",
       "      <th>...</th>\n",
       "      <th>Sushi Restaurant</th>\n",
       "      <th>Taco Place</th>\n",
       "      <th>Taiwanese Restaurant</th>\n",
       "      <th>Tea Room</th>\n",
       "      <th>Thai Restaurant</th>\n",
       "      <th>Theme Restaurant</th>\n",
       "      <th>Vegetarian / Vegan Restaurant</th>\n",
       "      <th>Vietnamese Restaurant</th>\n",
       "      <th>Wine Bar</th>\n",
       "      <th>Wine Shop</th>\n",
       "    </tr>\n",
       "  </thead>\n",
       "  <tbody>\n",
       "    <tr>\n",
       "      <th>1</th>\n",
       "      <td>Parkwoods</td>\n",
       "      <td>0</td>\n",
       "      <td>0</td>\n",
       "      <td>0</td>\n",
       "      <td>0</td>\n",
       "      <td>0</td>\n",
       "      <td>0</td>\n",
       "      <td>0</td>\n",
       "      <td>0</td>\n",
       "      <td>0</td>\n",
       "      <td>...</td>\n",
       "      <td>0</td>\n",
       "      <td>0</td>\n",
       "      <td>0</td>\n",
       "      <td>0</td>\n",
       "      <td>0</td>\n",
       "      <td>0</td>\n",
       "      <td>0</td>\n",
       "      <td>0</td>\n",
       "      <td>0</td>\n",
       "      <td>0</td>\n",
       "    </tr>\n",
       "    <tr>\n",
       "      <th>3</th>\n",
       "      <td>Victoria Village</td>\n",
       "      <td>0</td>\n",
       "      <td>0</td>\n",
       "      <td>0</td>\n",
       "      <td>0</td>\n",
       "      <td>0</td>\n",
       "      <td>0</td>\n",
       "      <td>0</td>\n",
       "      <td>0</td>\n",
       "      <td>0</td>\n",
       "      <td>...</td>\n",
       "      <td>0</td>\n",
       "      <td>0</td>\n",
       "      <td>0</td>\n",
       "      <td>0</td>\n",
       "      <td>0</td>\n",
       "      <td>0</td>\n",
       "      <td>0</td>\n",
       "      <td>0</td>\n",
       "      <td>0</td>\n",
       "      <td>0</td>\n",
       "    </tr>\n",
       "    <tr>\n",
       "      <th>4</th>\n",
       "      <td>Victoria Village</td>\n",
       "      <td>0</td>\n",
       "      <td>0</td>\n",
       "      <td>0</td>\n",
       "      <td>0</td>\n",
       "      <td>0</td>\n",
       "      <td>0</td>\n",
       "      <td>0</td>\n",
       "      <td>0</td>\n",
       "      <td>0</td>\n",
       "      <td>...</td>\n",
       "      <td>0</td>\n",
       "      <td>0</td>\n",
       "      <td>0</td>\n",
       "      <td>0</td>\n",
       "      <td>0</td>\n",
       "      <td>0</td>\n",
       "      <td>0</td>\n",
       "      <td>0</td>\n",
       "      <td>0</td>\n",
       "      <td>0</td>\n",
       "    </tr>\n",
       "    <tr>\n",
       "      <th>5</th>\n",
       "      <td>Victoria Village</td>\n",
       "      <td>0</td>\n",
       "      <td>0</td>\n",
       "      <td>0</td>\n",
       "      <td>0</td>\n",
       "      <td>0</td>\n",
       "      <td>0</td>\n",
       "      <td>0</td>\n",
       "      <td>0</td>\n",
       "      <td>0</td>\n",
       "      <td>...</td>\n",
       "      <td>0</td>\n",
       "      <td>0</td>\n",
       "      <td>0</td>\n",
       "      <td>0</td>\n",
       "      <td>0</td>\n",
       "      <td>0</td>\n",
       "      <td>0</td>\n",
       "      <td>0</td>\n",
       "      <td>0</td>\n",
       "      <td>0</td>\n",
       "    </tr>\n",
       "    <tr>\n",
       "      <th>7</th>\n",
       "      <td>Harbourfront</td>\n",
       "      <td>0</td>\n",
       "      <td>0</td>\n",
       "      <td>0</td>\n",
       "      <td>0</td>\n",
       "      <td>1</td>\n",
       "      <td>0</td>\n",
       "      <td>0</td>\n",
       "      <td>0</td>\n",
       "      <td>0</td>\n",
       "      <td>...</td>\n",
       "      <td>0</td>\n",
       "      <td>0</td>\n",
       "      <td>0</td>\n",
       "      <td>0</td>\n",
       "      <td>0</td>\n",
       "      <td>0</td>\n",
       "      <td>0</td>\n",
       "      <td>0</td>\n",
       "      <td>0</td>\n",
       "      <td>0</td>\n",
       "    </tr>\n",
       "  </tbody>\n",
       "</table>\n",
       "<p>5 rows × 93 columns</p>\n",
       "</div>"
      ],
      "text/plain": [
       "       Neighborhood  Afghan Restaurant  American Restaurant  Asian Restaurant  \\\n",
       "1         Parkwoods                  0                    0                 0   \n",
       "3  Victoria Village                  0                    0                 0   \n",
       "4  Victoria Village                  0                    0                 0   \n",
       "5  Victoria Village                  0                    0                 0   \n",
       "7      Harbourfront                  0                    0                 0   \n",
       "\n",
       "   BBQ Joint  Bakery  Bar  Beer Bar  Beer Store  Belgian Restaurant  ...  \\\n",
       "1          0       0    0         0           0                   0  ...   \n",
       "3          0       0    0         0           0                   0  ...   \n",
       "4          0       0    0         0           0                   0  ...   \n",
       "5          0       0    0         0           0                   0  ...   \n",
       "7          0       1    0         0           0                   0  ...   \n",
       "\n",
       "   Sushi Restaurant  Taco Place  Taiwanese Restaurant  Tea Room  \\\n",
       "1                 0           0                     0         0   \n",
       "3                 0           0                     0         0   \n",
       "4                 0           0                     0         0   \n",
       "5                 0           0                     0         0   \n",
       "7                 0           0                     0         0   \n",
       "\n",
       "   Thai Restaurant  Theme Restaurant  Vegetarian / Vegan Restaurant  \\\n",
       "1                0                 0                              0   \n",
       "3                0                 0                              0   \n",
       "4                0                 0                              0   \n",
       "5                0                 0                              0   \n",
       "7                0                 0                              0   \n",
       "\n",
       "   Vietnamese Restaurant  Wine Bar  Wine Shop  \n",
       "1                      0         0          0  \n",
       "3                      0         0          0  \n",
       "4                      0         0          0  \n",
       "5                      0         0          0  \n",
       "7                      0         0          0  \n",
       "\n",
       "[5 rows x 93 columns]"
      ]
     },
     "execution_count": 24,
     "metadata": {},
     "output_type": "execute_result"
    }
   ],
   "source": [
    "# one hot encoding\n",
    "toronto_onehot = pd.get_dummies(toronto_food_venues_df[['Venue Category']], prefix=\"\", prefix_sep=\"\")\n",
    "\n",
    "# add neighborhood column back to dataframe\n",
    "toronto_onehot['Neighborhood'] = toronto_food_venues_df['Neighborhood'] \n",
    "\n",
    "# move neighborhood column to the first column\n",
    "fixed_columns = [toronto_onehot.columns[-1]] + list(toronto_onehot.columns[:-1])\n",
    "toronto_onehot = toronto_onehot[fixed_columns]\n",
    "\n",
    "toronto_onehot.head()"
   ]
  },
  {
   "cell_type": "markdown",
   "metadata": {},
   "source": [
    "And let's examine the new dataframe size."
   ]
  },
  {
   "cell_type": "code",
   "execution_count": 25,
   "metadata": {},
   "outputs": [
    {
     "data": {
      "text/plain": [
       "(1238, 93)"
      ]
     },
     "execution_count": 25,
     "metadata": {},
     "output_type": "execute_result"
    }
   ],
   "source": [
    "toronto_onehot.shape"
   ]
  },
  {
   "cell_type": "markdown",
   "metadata": {},
   "source": [
    "Next, let's group rows by neighborhood and by taking the mean of the frequency of occurrence of each category"
   ]
  },
  {
   "cell_type": "code",
   "execution_count": 26,
   "metadata": {},
   "outputs": [
    {
     "data": {
      "text/html": [
       "<div>\n",
       "<style scoped>\n",
       "    .dataframe tbody tr th:only-of-type {\n",
       "        vertical-align: middle;\n",
       "    }\n",
       "\n",
       "    .dataframe tbody tr th {\n",
       "        vertical-align: top;\n",
       "    }\n",
       "\n",
       "    .dataframe thead th {\n",
       "        text-align: right;\n",
       "    }\n",
       "</style>\n",
       "<table border=\"1\" class=\"dataframe\">\n",
       "  <thead>\n",
       "    <tr style=\"text-align: right;\">\n",
       "      <th></th>\n",
       "      <th>Neighborhood</th>\n",
       "      <th>Afghan Restaurant</th>\n",
       "      <th>American Restaurant</th>\n",
       "      <th>Asian Restaurant</th>\n",
       "      <th>BBQ Joint</th>\n",
       "      <th>Bakery</th>\n",
       "      <th>Bar</th>\n",
       "      <th>Beer Bar</th>\n",
       "      <th>Beer Store</th>\n",
       "      <th>Belgian Restaurant</th>\n",
       "      <th>...</th>\n",
       "      <th>Sushi Restaurant</th>\n",
       "      <th>Taco Place</th>\n",
       "      <th>Taiwanese Restaurant</th>\n",
       "      <th>Tea Room</th>\n",
       "      <th>Thai Restaurant</th>\n",
       "      <th>Theme Restaurant</th>\n",
       "      <th>Vegetarian / Vegan Restaurant</th>\n",
       "      <th>Vietnamese Restaurant</th>\n",
       "      <th>Wine Bar</th>\n",
       "      <th>Wine Shop</th>\n",
       "    </tr>\n",
       "  </thead>\n",
       "  <tbody>\n",
       "    <tr>\n",
       "      <th>0</th>\n",
       "      <td>Adelaide, King, Richmond</td>\n",
       "      <td>0.0</td>\n",
       "      <td>0.032787</td>\n",
       "      <td>0.04918</td>\n",
       "      <td>0.0</td>\n",
       "      <td>0.032787</td>\n",
       "      <td>0.065574</td>\n",
       "      <td>0.0</td>\n",
       "      <td>0.0</td>\n",
       "      <td>0.0</td>\n",
       "      <td>...</td>\n",
       "      <td>0.049180</td>\n",
       "      <td>0.0</td>\n",
       "      <td>0.0</td>\n",
       "      <td>0.0</td>\n",
       "      <td>0.04918</td>\n",
       "      <td>0.0</td>\n",
       "      <td>0.032787</td>\n",
       "      <td>0.0</td>\n",
       "      <td>0.016393</td>\n",
       "      <td>0.0</td>\n",
       "    </tr>\n",
       "    <tr>\n",
       "      <th>1</th>\n",
       "      <td>Agincourt</td>\n",
       "      <td>0.0</td>\n",
       "      <td>0.000000</td>\n",
       "      <td>0.00000</td>\n",
       "      <td>0.0</td>\n",
       "      <td>0.000000</td>\n",
       "      <td>0.000000</td>\n",
       "      <td>0.0</td>\n",
       "      <td>0.0</td>\n",
       "      <td>0.0</td>\n",
       "      <td>...</td>\n",
       "      <td>0.000000</td>\n",
       "      <td>0.0</td>\n",
       "      <td>0.0</td>\n",
       "      <td>0.0</td>\n",
       "      <td>0.00000</td>\n",
       "      <td>0.0</td>\n",
       "      <td>0.000000</td>\n",
       "      <td>0.0</td>\n",
       "      <td>0.000000</td>\n",
       "      <td>0.0</td>\n",
       "    </tr>\n",
       "    <tr>\n",
       "      <th>2</th>\n",
       "      <td>Albion Gardens, Beaumond Heights, Humbergate, ...</td>\n",
       "      <td>0.0</td>\n",
       "      <td>0.000000</td>\n",
       "      <td>0.00000</td>\n",
       "      <td>0.0</td>\n",
       "      <td>0.000000</td>\n",
       "      <td>0.000000</td>\n",
       "      <td>0.0</td>\n",
       "      <td>0.2</td>\n",
       "      <td>0.0</td>\n",
       "      <td>...</td>\n",
       "      <td>0.000000</td>\n",
       "      <td>0.0</td>\n",
       "      <td>0.0</td>\n",
       "      <td>0.0</td>\n",
       "      <td>0.00000</td>\n",
       "      <td>0.0</td>\n",
       "      <td>0.000000</td>\n",
       "      <td>0.0</td>\n",
       "      <td>0.000000</td>\n",
       "      <td>0.0</td>\n",
       "    </tr>\n",
       "    <tr>\n",
       "      <th>3</th>\n",
       "      <td>Alderwood, Long Branch</td>\n",
       "      <td>0.0</td>\n",
       "      <td>0.000000</td>\n",
       "      <td>0.00000</td>\n",
       "      <td>0.0</td>\n",
       "      <td>0.000000</td>\n",
       "      <td>0.000000</td>\n",
       "      <td>0.0</td>\n",
       "      <td>0.0</td>\n",
       "      <td>0.0</td>\n",
       "      <td>...</td>\n",
       "      <td>0.000000</td>\n",
       "      <td>0.0</td>\n",
       "      <td>0.0</td>\n",
       "      <td>0.0</td>\n",
       "      <td>0.00000</td>\n",
       "      <td>0.0</td>\n",
       "      <td>0.000000</td>\n",
       "      <td>0.0</td>\n",
       "      <td>0.000000</td>\n",
       "      <td>0.0</td>\n",
       "    </tr>\n",
       "    <tr>\n",
       "      <th>4</th>\n",
       "      <td>Bathurst Manor, Downsview North, Wilson Heights</td>\n",
       "      <td>0.0</td>\n",
       "      <td>0.000000</td>\n",
       "      <td>0.00000</td>\n",
       "      <td>0.0</td>\n",
       "      <td>0.000000</td>\n",
       "      <td>0.000000</td>\n",
       "      <td>0.0</td>\n",
       "      <td>0.0</td>\n",
       "      <td>0.0</td>\n",
       "      <td>...</td>\n",
       "      <td>0.111111</td>\n",
       "      <td>0.0</td>\n",
       "      <td>0.0</td>\n",
       "      <td>0.0</td>\n",
       "      <td>0.00000</td>\n",
       "      <td>0.0</td>\n",
       "      <td>0.000000</td>\n",
       "      <td>0.0</td>\n",
       "      <td>0.000000</td>\n",
       "      <td>0.0</td>\n",
       "    </tr>\n",
       "  </tbody>\n",
       "</table>\n",
       "<p>5 rows × 93 columns</p>\n",
       "</div>"
      ],
      "text/plain": [
       "                                        Neighborhood  Afghan Restaurant  \\\n",
       "0                           Adelaide, King, Richmond                0.0   \n",
       "1                                          Agincourt                0.0   \n",
       "2  Albion Gardens, Beaumond Heights, Humbergate, ...                0.0   \n",
       "3                             Alderwood, Long Branch                0.0   \n",
       "4    Bathurst Manor, Downsview North, Wilson Heights                0.0   \n",
       "\n",
       "   American Restaurant  Asian Restaurant  BBQ Joint    Bakery       Bar  \\\n",
       "0             0.032787           0.04918        0.0  0.032787  0.065574   \n",
       "1             0.000000           0.00000        0.0  0.000000  0.000000   \n",
       "2             0.000000           0.00000        0.0  0.000000  0.000000   \n",
       "3             0.000000           0.00000        0.0  0.000000  0.000000   \n",
       "4             0.000000           0.00000        0.0  0.000000  0.000000   \n",
       "\n",
       "   Beer Bar  Beer Store  Belgian Restaurant  ...  Sushi Restaurant  \\\n",
       "0       0.0         0.0                 0.0  ...          0.049180   \n",
       "1       0.0         0.0                 0.0  ...          0.000000   \n",
       "2       0.0         0.2                 0.0  ...          0.000000   \n",
       "3       0.0         0.0                 0.0  ...          0.000000   \n",
       "4       0.0         0.0                 0.0  ...          0.111111   \n",
       "\n",
       "   Taco Place  Taiwanese Restaurant  Tea Room  Thai Restaurant  \\\n",
       "0         0.0                   0.0       0.0          0.04918   \n",
       "1         0.0                   0.0       0.0          0.00000   \n",
       "2         0.0                   0.0       0.0          0.00000   \n",
       "3         0.0                   0.0       0.0          0.00000   \n",
       "4         0.0                   0.0       0.0          0.00000   \n",
       "\n",
       "   Theme Restaurant  Vegetarian / Vegan Restaurant  Vietnamese Restaurant  \\\n",
       "0               0.0                       0.032787                    0.0   \n",
       "1               0.0                       0.000000                    0.0   \n",
       "2               0.0                       0.000000                    0.0   \n",
       "3               0.0                       0.000000                    0.0   \n",
       "4               0.0                       0.000000                    0.0   \n",
       "\n",
       "   Wine Bar  Wine Shop  \n",
       "0  0.016393        0.0  \n",
       "1  0.000000        0.0  \n",
       "2  0.000000        0.0  \n",
       "3  0.000000        0.0  \n",
       "4  0.000000        0.0  \n",
       "\n",
       "[5 rows x 93 columns]"
      ]
     },
     "execution_count": 26,
     "metadata": {},
     "output_type": "execute_result"
    }
   ],
   "source": [
    "toronto_grouped = toronto_onehot.groupby('Neighborhood').mean().reset_index()\n",
    "toronto_grouped.head()"
   ]
  },
  {
   "cell_type": "markdown",
   "metadata": {},
   "source": [
    "Let's confirm the new size"
   ]
  },
  {
   "cell_type": "code",
   "execution_count": 27,
   "metadata": {},
   "outputs": [
    {
     "data": {
      "text/plain": [
       "(82, 93)"
      ]
     },
     "execution_count": 27,
     "metadata": {},
     "output_type": "execute_result"
    }
   ],
   "source": [
    "toronto_grouped.shape"
   ]
  },
  {
   "cell_type": "markdown",
   "metadata": {},
   "source": [
    "Now let's create the new dataframe and display the top 10 food venues for each neighborhood."
   ]
  },
  {
   "cell_type": "code",
   "execution_count": 28,
   "metadata": {},
   "outputs": [],
   "source": [
    "def return_most_common_venues(row, num_top_venues):\n",
    "    row_categories = row.iloc[1:]\n",
    "    row_categories_sorted = row_categories.sort_values(ascending=False)\n",
    "    \n",
    "    return row_categories_sorted.index.values[0:num_top_venues]"
   ]
  },
  {
   "cell_type": "code",
   "execution_count": 29,
   "metadata": {},
   "outputs": [
    {
     "data": {
      "text/html": [
       "<div>\n",
       "<style scoped>\n",
       "    .dataframe tbody tr th:only-of-type {\n",
       "        vertical-align: middle;\n",
       "    }\n",
       "\n",
       "    .dataframe tbody tr th {\n",
       "        vertical-align: top;\n",
       "    }\n",
       "\n",
       "    .dataframe thead th {\n",
       "        text-align: right;\n",
       "    }\n",
       "</style>\n",
       "<table border=\"1\" class=\"dataframe\">\n",
       "  <thead>\n",
       "    <tr style=\"text-align: right;\">\n",
       "      <th></th>\n",
       "      <th>Neighborhood</th>\n",
       "      <th>1st Most Common Venue</th>\n",
       "      <th>2nd Most Common Venue</th>\n",
       "      <th>3rd Most Common Venue</th>\n",
       "      <th>4th Most Common Venue</th>\n",
       "      <th>5th Most Common Venue</th>\n",
       "      <th>6th Most Common Venue</th>\n",
       "      <th>7th Most Common Venue</th>\n",
       "      <th>8th Most Common Venue</th>\n",
       "      <th>9th Most Common Venue</th>\n",
       "      <th>10th Most Common Venue</th>\n",
       "    </tr>\n",
       "  </thead>\n",
       "  <tbody>\n",
       "    <tr>\n",
       "      <th>0</th>\n",
       "      <td>Adelaide, King, Richmond</td>\n",
       "      <td>Coffee Shop</td>\n",
       "      <td>Steakhouse</td>\n",
       "      <td>Café</td>\n",
       "      <td>Bar</td>\n",
       "      <td>Burger Joint</td>\n",
       "      <td>Asian Restaurant</td>\n",
       "      <td>Thai Restaurant</td>\n",
       "      <td>Sushi Restaurant</td>\n",
       "      <td>Breakfast Spot</td>\n",
       "      <td>Pizza Place</td>\n",
       "    </tr>\n",
       "    <tr>\n",
       "      <th>1</th>\n",
       "      <td>Agincourt</td>\n",
       "      <td>Breakfast Spot</td>\n",
       "      <td>Latin American Restaurant</td>\n",
       "      <td>Ethiopian Restaurant</td>\n",
       "      <td>Cupcake Shop</td>\n",
       "      <td>Dessert Shop</td>\n",
       "      <td>Dim Sum Restaurant</td>\n",
       "      <td>Doner Restaurant</td>\n",
       "      <td>Donut Shop</td>\n",
       "      <td>Dumpling Restaurant</td>\n",
       "      <td>Eastern European Restaurant</td>\n",
       "    </tr>\n",
       "    <tr>\n",
       "      <th>2</th>\n",
       "      <td>Albion Gardens, Beaumond Heights, Humbergate, ...</td>\n",
       "      <td>Sandwich Place</td>\n",
       "      <td>Fried Chicken Joint</td>\n",
       "      <td>Beer Store</td>\n",
       "      <td>Pizza Place</td>\n",
       "      <td>Fast Food Restaurant</td>\n",
       "      <td>Wine Shop</td>\n",
       "      <td>Cuban Restaurant</td>\n",
       "      <td>Cupcake Shop</td>\n",
       "      <td>Dessert Shop</td>\n",
       "      <td>Dim Sum Restaurant</td>\n",
       "    </tr>\n",
       "    <tr>\n",
       "      <th>3</th>\n",
       "      <td>Alderwood, Long Branch</td>\n",
       "      <td>Pizza Place</td>\n",
       "      <td>Coffee Shop</td>\n",
       "      <td>Sandwich Place</td>\n",
       "      <td>Eastern European Restaurant</td>\n",
       "      <td>Comfort Food Restaurant</td>\n",
       "      <td>Cuban Restaurant</td>\n",
       "      <td>Cupcake Shop</td>\n",
       "      <td>Dessert Shop</td>\n",
       "      <td>Dim Sum Restaurant</td>\n",
       "      <td>Doner Restaurant</td>\n",
       "    </tr>\n",
       "    <tr>\n",
       "      <th>4</th>\n",
       "      <td>Bathurst Manor, Downsview North, Wilson Heights</td>\n",
       "      <td>Coffee Shop</td>\n",
       "      <td>Middle Eastern Restaurant</td>\n",
       "      <td>Sushi Restaurant</td>\n",
       "      <td>Fast Food Restaurant</td>\n",
       "      <td>Frozen Yogurt Shop</td>\n",
       "      <td>Pizza Place</td>\n",
       "      <td>Sandwich Place</td>\n",
       "      <td>Fried Chicken Joint</td>\n",
       "      <td>Beer Store</td>\n",
       "      <td>Beer Bar</td>\n",
       "    </tr>\n",
       "  </tbody>\n",
       "</table>\n",
       "</div>"
      ],
      "text/plain": [
       "                                        Neighborhood 1st Most Common Venue  \\\n",
       "0                           Adelaide, King, Richmond           Coffee Shop   \n",
       "1                                          Agincourt        Breakfast Spot   \n",
       "2  Albion Gardens, Beaumond Heights, Humbergate, ...        Sandwich Place   \n",
       "3                             Alderwood, Long Branch           Pizza Place   \n",
       "4    Bathurst Manor, Downsview North, Wilson Heights           Coffee Shop   \n",
       "\n",
       "       2nd Most Common Venue 3rd Most Common Venue  \\\n",
       "0                 Steakhouse                  Café   \n",
       "1  Latin American Restaurant  Ethiopian Restaurant   \n",
       "2        Fried Chicken Joint            Beer Store   \n",
       "3                Coffee Shop        Sandwich Place   \n",
       "4  Middle Eastern Restaurant      Sushi Restaurant   \n",
       "\n",
       "         4th Most Common Venue    5th Most Common Venue 6th Most Common Venue  \\\n",
       "0                          Bar             Burger Joint      Asian Restaurant   \n",
       "1                 Cupcake Shop             Dessert Shop    Dim Sum Restaurant   \n",
       "2                  Pizza Place     Fast Food Restaurant             Wine Shop   \n",
       "3  Eastern European Restaurant  Comfort Food Restaurant      Cuban Restaurant   \n",
       "4         Fast Food Restaurant       Frozen Yogurt Shop           Pizza Place   \n",
       "\n",
       "  7th Most Common Venue 8th Most Common Venue 9th Most Common Venue  \\\n",
       "0       Thai Restaurant      Sushi Restaurant        Breakfast Spot   \n",
       "1      Doner Restaurant            Donut Shop   Dumpling Restaurant   \n",
       "2      Cuban Restaurant          Cupcake Shop          Dessert Shop   \n",
       "3          Cupcake Shop          Dessert Shop    Dim Sum Restaurant   \n",
       "4        Sandwich Place   Fried Chicken Joint            Beer Store   \n",
       "\n",
       "        10th Most Common Venue  \n",
       "0                  Pizza Place  \n",
       "1  Eastern European Restaurant  \n",
       "2           Dim Sum Restaurant  \n",
       "3             Doner Restaurant  \n",
       "4                     Beer Bar  "
      ]
     },
     "execution_count": 29,
     "metadata": {},
     "output_type": "execute_result"
    }
   ],
   "source": [
    "num_top_venues = 10\n",
    "\n",
    "indicators = ['st', 'nd', 'rd']\n",
    "\n",
    "# create columns according to number of top venues\n",
    "columns = ['Neighborhood']\n",
    "for ind in np.arange(num_top_venues):\n",
    "    try:\n",
    "        columns.append('{}{} Most Common Venue'.format(ind+1, indicators[ind]))\n",
    "    except:\n",
    "        columns.append('{}th Most Common Venue'.format(ind+1))\n",
    "\n",
    "# create a new dataframe\n",
    "neighborhoods_venues_sorted = pd.DataFrame(columns=columns)\n",
    "neighborhoods_venues_sorted['Neighborhood'] = toronto_grouped['Neighborhood']\n",
    "\n",
    "for ind in np.arange(toronto_grouped.shape[0]):\n",
    "    neighborhoods_venues_sorted.iloc[ind, 1:] = return_most_common_venues(toronto_grouped.iloc[ind, :], num_top_venues)\n",
    "\n",
    "neighborhoods_venues_sorted.head()"
   ]
  },
  {
   "cell_type": "markdown",
   "metadata": {},
   "source": [
    "###  Cluster Neighborhoods"
   ]
  },
  {
   "cell_type": "code",
   "execution_count": 30,
   "metadata": {},
   "outputs": [],
   "source": [
    "from sklearn.cluster import KMeans\n",
    "import matplotlib.cm as cm\n",
    "import matplotlib.colors as colors"
   ]
  },
  {
   "cell_type": "code",
   "execution_count": 31,
   "metadata": {},
   "outputs": [
    {
     "data": {
      "text/plain": [
       "array([1, 1, 1, 1, 1, 1, 1, 1, 1, 1])"
      ]
     },
     "execution_count": 31,
     "metadata": {},
     "output_type": "execute_result"
    }
   ],
   "source": [
    "# set number of clusters\n",
    "kclusters = 4\n",
    "\n",
    "toronto_grouped_clustering = toronto_grouped.drop('Neighborhood', 1)\n",
    "\n",
    "# run k-means clustering\n",
    "kmeans = KMeans(n_clusters=kclusters, random_state=0).fit(toronto_grouped_clustering)\n",
    "\n",
    "# check cluster labels generated for each row in the dataframe\n",
    "kmeans.labels_[0:10] "
   ]
  },
  {
   "cell_type": "markdown",
   "metadata": {},
   "source": [
    "Let's create a new dataframe that includes the cluster as well as the top 10 venues for each neighborhood."
   ]
  },
  {
   "cell_type": "code",
   "execution_count": 32,
   "metadata": {},
   "outputs": [
    {
     "data": {
      "text/html": [
       "<div>\n",
       "<style scoped>\n",
       "    .dataframe tbody tr th:only-of-type {\n",
       "        vertical-align: middle;\n",
       "    }\n",
       "\n",
       "    .dataframe tbody tr th {\n",
       "        vertical-align: top;\n",
       "    }\n",
       "\n",
       "    .dataframe thead th {\n",
       "        text-align: right;\n",
       "    }\n",
       "</style>\n",
       "<table border=\"1\" class=\"dataframe\">\n",
       "  <thead>\n",
       "    <tr style=\"text-align: right;\">\n",
       "      <th></th>\n",
       "      <th>Borough</th>\n",
       "      <th>Neighborhood</th>\n",
       "      <th>Latitude</th>\n",
       "      <th>Longitude</th>\n",
       "      <th>Cluster Labels</th>\n",
       "      <th>1st Most Common Venue</th>\n",
       "      <th>2nd Most Common Venue</th>\n",
       "      <th>3rd Most Common Venue</th>\n",
       "      <th>4th Most Common Venue</th>\n",
       "      <th>5th Most Common Venue</th>\n",
       "      <th>6th Most Common Venue</th>\n",
       "      <th>7th Most Common Venue</th>\n",
       "      <th>8th Most Common Venue</th>\n",
       "      <th>9th Most Common Venue</th>\n",
       "      <th>10th Most Common Venue</th>\n",
       "    </tr>\n",
       "  </thead>\n",
       "  <tbody>\n",
       "    <tr>\n",
       "      <th>0</th>\n",
       "      <td>North York</td>\n",
       "      <td>Parkwoods</td>\n",
       "      <td>43.753259</td>\n",
       "      <td>-79.329656</td>\n",
       "      <td>1.0</td>\n",
       "      <td>Food &amp; Drink Shop</td>\n",
       "      <td>Wine Shop</td>\n",
       "      <td>Ethiopian Restaurant</td>\n",
       "      <td>Cuban Restaurant</td>\n",
       "      <td>Cupcake Shop</td>\n",
       "      <td>Dessert Shop</td>\n",
       "      <td>Dim Sum Restaurant</td>\n",
       "      <td>Doner Restaurant</td>\n",
       "      <td>Donut Shop</td>\n",
       "      <td>Dumpling Restaurant</td>\n",
       "    </tr>\n",
       "    <tr>\n",
       "      <th>1</th>\n",
       "      <td>North York</td>\n",
       "      <td>Victoria Village</td>\n",
       "      <td>43.725882</td>\n",
       "      <td>-79.315572</td>\n",
       "      <td>1.0</td>\n",
       "      <td>Coffee Shop</td>\n",
       "      <td>French Restaurant</td>\n",
       "      <td>Portuguese Restaurant</td>\n",
       "      <td>Empanada Restaurant</td>\n",
       "      <td>Cuban Restaurant</td>\n",
       "      <td>Cupcake Shop</td>\n",
       "      <td>Dessert Shop</td>\n",
       "      <td>Dim Sum Restaurant</td>\n",
       "      <td>Doner Restaurant</td>\n",
       "      <td>Donut Shop</td>\n",
       "    </tr>\n",
       "    <tr>\n",
       "      <th>2</th>\n",
       "      <td>Downtown Toronto</td>\n",
       "      <td>Harbourfront</td>\n",
       "      <td>43.654260</td>\n",
       "      <td>-79.360636</td>\n",
       "      <td>1.0</td>\n",
       "      <td>Coffee Shop</td>\n",
       "      <td>Bakery</td>\n",
       "      <td>Mexican Restaurant</td>\n",
       "      <td>Café</td>\n",
       "      <td>Breakfast Spot</td>\n",
       "      <td>Health Food Store</td>\n",
       "      <td>French Restaurant</td>\n",
       "      <td>Asian Restaurant</td>\n",
       "      <td>Chocolate Shop</td>\n",
       "      <td>Ice Cream Shop</td>\n",
       "    </tr>\n",
       "    <tr>\n",
       "      <th>3</th>\n",
       "      <td>North York</td>\n",
       "      <td>Lawrence Heights, Lawrence Manor</td>\n",
       "      <td>43.718518</td>\n",
       "      <td>-79.464763</td>\n",
       "      <td>2.0</td>\n",
       "      <td>Coffee Shop</td>\n",
       "      <td>Vietnamese Restaurant</td>\n",
       "      <td>Ethiopian Restaurant</td>\n",
       "      <td>Cuban Restaurant</td>\n",
       "      <td>Cupcake Shop</td>\n",
       "      <td>Dessert Shop</td>\n",
       "      <td>Dim Sum Restaurant</td>\n",
       "      <td>Doner Restaurant</td>\n",
       "      <td>Donut Shop</td>\n",
       "      <td>Dumpling Restaurant</td>\n",
       "    </tr>\n",
       "    <tr>\n",
       "      <th>4</th>\n",
       "      <td>Downtown Toronto</td>\n",
       "      <td>Queen's Park</td>\n",
       "      <td>43.662301</td>\n",
       "      <td>-79.389494</td>\n",
       "      <td>1.0</td>\n",
       "      <td>Coffee Shop</td>\n",
       "      <td>Mexican Restaurant</td>\n",
       "      <td>Smoothie Shop</td>\n",
       "      <td>Italian Restaurant</td>\n",
       "      <td>Japanese Restaurant</td>\n",
       "      <td>Chinese Restaurant</td>\n",
       "      <td>Nightclub</td>\n",
       "      <td>Café</td>\n",
       "      <td>Portuguese Restaurant</td>\n",
       "      <td>Burger Joint</td>\n",
       "    </tr>\n",
       "  </tbody>\n",
       "</table>\n",
       "</div>"
      ],
      "text/plain": [
       "            Borough                      Neighborhood   Latitude  Longitude  \\\n",
       "0        North York                         Parkwoods  43.753259 -79.329656   \n",
       "1        North York                  Victoria Village  43.725882 -79.315572   \n",
       "2  Downtown Toronto                      Harbourfront  43.654260 -79.360636   \n",
       "3        North York  Lawrence Heights, Lawrence Manor  43.718518 -79.464763   \n",
       "4  Downtown Toronto                      Queen's Park  43.662301 -79.389494   \n",
       "\n",
       "   Cluster Labels 1st Most Common Venue  2nd Most Common Venue  \\\n",
       "0             1.0     Food & Drink Shop              Wine Shop   \n",
       "1             1.0           Coffee Shop      French Restaurant   \n",
       "2             1.0           Coffee Shop                 Bakery   \n",
       "3             2.0           Coffee Shop  Vietnamese Restaurant   \n",
       "4             1.0           Coffee Shop     Mexican Restaurant   \n",
       "\n",
       "   3rd Most Common Venue 4th Most Common Venue 5th Most Common Venue  \\\n",
       "0   Ethiopian Restaurant      Cuban Restaurant          Cupcake Shop   \n",
       "1  Portuguese Restaurant   Empanada Restaurant      Cuban Restaurant   \n",
       "2     Mexican Restaurant                  Café        Breakfast Spot   \n",
       "3   Ethiopian Restaurant      Cuban Restaurant          Cupcake Shop   \n",
       "4          Smoothie Shop    Italian Restaurant   Japanese Restaurant   \n",
       "\n",
       "  6th Most Common Venue 7th Most Common Venue 8th Most Common Venue  \\\n",
       "0          Dessert Shop    Dim Sum Restaurant      Doner Restaurant   \n",
       "1          Cupcake Shop          Dessert Shop    Dim Sum Restaurant   \n",
       "2     Health Food Store     French Restaurant      Asian Restaurant   \n",
       "3          Dessert Shop    Dim Sum Restaurant      Doner Restaurant   \n",
       "4    Chinese Restaurant             Nightclub                  Café   \n",
       "\n",
       "   9th Most Common Venue 10th Most Common Venue  \n",
       "0             Donut Shop    Dumpling Restaurant  \n",
       "1       Doner Restaurant             Donut Shop  \n",
       "2         Chocolate Shop         Ice Cream Shop  \n",
       "3             Donut Shop    Dumpling Restaurant  \n",
       "4  Portuguese Restaurant           Burger Joint  "
      ]
     },
     "execution_count": 32,
     "metadata": {},
     "output_type": "execute_result"
    }
   ],
   "source": [
    "# add clustering labels\n",
    "neighborhoods_venues_sorted.insert(0, 'Cluster Labels', kmeans.labels_)\n",
    "\n",
    "toronto_merged = toronto_df.drop('PostalCode', 1)\n",
    "\n",
    "# merge toronto_grouped with toronto_data to add latitude/longitude for each neighborhood\n",
    "toronto_merged = toronto_merged.join(neighborhoods_venues_sorted.set_index('Neighborhood'), on='Neighborhood')\n",
    "\n",
    "# Drop the rows where cluster labels are missing \n",
    "toronto_merged.dropna(inplace=True)\n",
    "\n",
    "toronto_merged.head()"
   ]
  },
  {
   "cell_type": "code",
   "execution_count": 33,
   "metadata": {},
   "outputs": [
    {
     "data": {
      "text/plain": [
       "(83, 15)"
      ]
     },
     "execution_count": 33,
     "metadata": {},
     "output_type": "execute_result"
    }
   ],
   "source": [
    "toronto_merged.shape"
   ]
  },
  {
   "cell_type": "markdown",
   "metadata": {},
   "source": [
    "# Results and Discussion<a name=\"Results&Discussion\"></a>\n",
    "Let's visualize the resulting clusters"
   ]
  },
  {
   "cell_type": "code",
   "execution_count": 34,
   "metadata": {},
   "outputs": [
    {
     "data": {
      "text/html": [
       "<div style=\"width:100%;\"><div style=\"position:relative;width:100%;height:0;padding-bottom:60%;\"><iframe src=\"data:text/html;charset=utf-8;base64,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\" style=\"position:absolute;width:100%;height:100%;left:0;top:0;border:none !important;\" allowfullscreen webkitallowfullscreen mozallowfullscreen></iframe></div></div>"
      ],
      "text/plain": [
       "<folium.folium.Map at 0x24c2fadf710>"
      ]
     },
     "execution_count": 34,
     "metadata": {},
     "output_type": "execute_result"
    }
   ],
   "source": [
    "# create map\n",
    "map_clusters = folium.Map(location=[latitude, longitude], zoom_start=11)\n",
    "\n",
    "# set color scheme for the clusters\n",
    "x = np.arange(kclusters)\n",
    "ys = [i + x + (i*x)**2 for i in range(kclusters)]\n",
    "colors_array = cm.rainbow(np.linspace(0, 1, len(ys)))\n",
    "rainbow = [colors.rgb2hex(i) for i in colors_array]\n",
    "\n",
    "# add markers to the map\n",
    "markers_colors = []\n",
    "for lat, lon, poi, cluster in zip(toronto_merged['Latitude'], toronto_merged['Longitude'], toronto_merged['Neighborhood'], toronto_merged['Cluster Labels']):\n",
    "    label = folium.Popup(str(poi) + ' Cluster ' + str(cluster), parse_html=True)\n",
    "    folium.CircleMarker(\n",
    "        [lat, lon],\n",
    "        radius=5,\n",
    "        popup=label,\n",
    "        color=rainbow[int(cluster-1)],\n",
    "        fill=True,\n",
    "        fill_color=rainbow[int(cluster-1)],\n",
    "        fill_opacity=0.7).add_to(map_clusters)\n",
    "       \n",
    "map_clusters"
   ]
  },
  {
   "cell_type": "markdown",
   "metadata": {},
   "source": [
    "## Examine Clusters\n",
    "Now, we can examine each cluster and determine the discriminating venue categories that distinguish each cluster.\n",
    "### Cluster 0"
   ]
  },
  {
   "cell_type": "code",
   "execution_count": 35,
   "metadata": {},
   "outputs": [
    {
     "name": "stdout",
     "output_type": "stream",
     "text": [
      "Bar    2\n",
      "Name: 1st Most Common Venue, dtype: int64\n",
      "-------------------------------------------\n",
      "Wine Shop    2\n",
      "Name: 2nd Most Common Venue, dtype: int64\n",
      "-------------------------------------------\n"
     ]
    }
   ],
   "source": [
    "cluster_0 = toronto_merged.loc[toronto_merged['Cluster Labels'] == 0, toronto_merged.columns[[1] + list(range(5, toronto_merged.shape[1]))]]\n",
    "for col in ['1st Most Common Venue', '2nd Most Common Venue']:\n",
    "    print(cluster_0[col].value_counts(ascending=False))\n",
    "    print('-------------------------------------------')"
   ]
  },
  {
   "cell_type": "markdown",
   "metadata": {},
   "source": [
    "So, Cluster 0 is a combination of \"Bar\" and \"Wine Shop\"."
   ]
  },
  {
   "cell_type": "markdown",
   "metadata": {},
   "source": [
    "### Cluster 1"
   ]
  },
  {
   "cell_type": "code",
   "execution_count": 36,
   "metadata": {
    "scrolled": false
   },
   "outputs": [
    {
     "name": "stdout",
     "output_type": "stream",
     "text": [
      "Coffee Shop                 27\n",
      "Café                         8\n",
      "Pizza Place                  6\n",
      "Sandwich Place               5\n",
      "Bakery                       4\n",
      "Caribbean Restaurant         2\n",
      "Burger Joint                 2\n",
      "Asian Restaurant             2\n",
      "Indian Restaurant            1\n",
      "Bar                          1\n",
      "Mediterranean Restaurant     1\n",
      "Chinese Restaurant           1\n",
      "Empanada Restaurant          1\n",
      "Ramen Restaurant             1\n",
      "Food Truck                   1\n",
      "Italian Restaurant           1\n",
      "Food & Drink Shop            1\n",
      "Breakfast Spot               1\n",
      "Fried Chicken Joint          1\n",
      "American Restaurant          1\n",
      "Sushi Restaurant             1\n",
      "Greek Restaurant             1\n",
      "Fast Food Restaurant         1\n",
      "Health Food Store            1\n",
      "Falafel Restaurant           1\n",
      "Name: 1st Most Common Venue, dtype: int64\n",
      "-------------------------------------------\n",
      "Coffee Shop                  10\n",
      "Café                         10\n",
      "Wine Shop                     9\n",
      "Pizza Place                   4\n",
      "Fast Food Restaurant          4\n",
      "Sandwich Place                3\n",
      "Japanese Restaurant           3\n",
      "Fried Chicken Joint           3\n",
      "Bakery                        3\n",
      "Mexican Restaurant            3\n",
      "Dessert Shop                  2\n",
      "Breakfast Spot                2\n",
      "Middle Eastern Restaurant     2\n",
      "Vietnamese Restaurant         2\n",
      "Burger Joint                  2\n",
      "Asian Restaurant              2\n",
      "Steakhouse                    1\n",
      "Beer Store                    1\n",
      "French Restaurant             1\n",
      "Sushi Restaurant              1\n",
      "Thai Restaurant               1\n",
      "Latin American Restaurant     1\n",
      "Indian Restaurant             1\n",
      "Food & Drink Shop             1\n",
      "Cocktail Bar                  1\n",
      "Name: 2nd Most Common Venue, dtype: int64\n",
      "-------------------------------------------\n"
     ]
    }
   ],
   "source": [
    "cluster_1 = toronto_merged.loc[toronto_merged['Cluster Labels'] == 1, toronto_merged.columns[[1] + list(range(5, toronto_merged.shape[1]))]]\n",
    "for col in ['1st Most Common Venue', '2nd Most Common Venue']:\n",
    "    print(cluster_1[col].value_counts(ascending=False))\n",
    "    print('-------------------------------------------')"
   ]
  },
  {
   "cell_type": "markdown",
   "metadata": {},
   "source": [
    "So, Cluster 1 is a \"Coffee Shop\" dominant cluster."
   ]
  },
  {
   "cell_type": "markdown",
   "metadata": {},
   "source": [
    "### Cluster 2"
   ]
  },
  {
   "cell_type": "code",
   "execution_count": 37,
   "metadata": {
    "scrolled": true
   },
   "outputs": [
    {
     "name": "stdout",
     "output_type": "stream",
     "text": [
      "Coffee Shop    4\n",
      "Name: 1st Most Common Venue, dtype: int64\n",
      "-------------------------------------------\n",
      "Ethiopian Restaurant     2\n",
      "Vietnamese Restaurant    1\n",
      "Korean Restaurant        1\n",
      "Name: 2nd Most Common Venue, dtype: int64\n",
      "-------------------------------------------\n"
     ]
    }
   ],
   "source": [
    "cluster_2 = toronto_merged.loc[toronto_merged['Cluster Labels'] == 2, toronto_merged.columns[[1] + list(range(5, toronto_merged.shape[1]))]]\n",
    "for col in ['1st Most Common Venue', '2nd Most Common Venue']:\n",
    "    print(cluster_2[col].value_counts(ascending=False))\n",
    "    print('-------------------------------------------')"
   ]
  },
  {
   "cell_type": "markdown",
   "metadata": {},
   "source": [
    "So, Cluster 2 is a \"Coffee Shop\" dominant cluster."
   ]
  },
  {
   "cell_type": "markdown",
   "metadata": {},
   "source": [
    "### Cluster 3"
   ]
  },
  {
   "cell_type": "code",
   "execution_count": 38,
   "metadata": {
    "scrolled": true
   },
   "outputs": [
    {
     "name": "stdout",
     "output_type": "stream",
     "text": [
      "Fast Food Restaurant    3\n",
      "Pizza Place             1\n",
      "Name: 1st Most Common Venue, dtype: int64\n",
      "-------------------------------------------\n",
      "Wine Shop               2\n",
      "Sandwich Place          1\n",
      "Fast Food Restaurant    1\n",
      "Name: 2nd Most Common Venue, dtype: int64\n",
      "-------------------------------------------\n"
     ]
    }
   ],
   "source": [
    "cluster_3 = toronto_merged.loc[toronto_merged['Cluster Labels'] == 3, toronto_merged.columns[[1] + list(range(5, toronto_merged.shape[1]))]]\n",
    "for col in ['1st Most Common Venue', '2nd Most Common Venue']:\n",
    "    print(cluster_3[col].value_counts(ascending=False))\n",
    "    print('-------------------------------------------')"
   ]
  },
  {
   "cell_type": "markdown",
   "metadata": {},
   "source": [
    "So, Cluster 3 is a \"Fast Food Restaurant\" dominant cluster."
   ]
  },
  {
   "cell_type": "code",
   "execution_count": 39,
   "metadata": {},
   "outputs": [
    {
     "data": {
      "text/html": [
       "<div>\n",
       "<style scoped>\n",
       "    .dataframe tbody tr th:only-of-type {\n",
       "        vertical-align: middle;\n",
       "    }\n",
       "\n",
       "    .dataframe tbody tr th {\n",
       "        vertical-align: top;\n",
       "    }\n",
       "\n",
       "    .dataframe thead th {\n",
       "        text-align: right;\n",
       "    }\n",
       "</style>\n",
       "<table border=\"1\" class=\"dataframe\">\n",
       "  <thead>\n",
       "    <tr style=\"text-align: right;\">\n",
       "      <th></th>\n",
       "      <th>Cluster</th>\n",
       "      <th>1st Most Common Venue</th>\n",
       "      <th>2nd Most Common Venue</th>\n",
       "      <th>Neighborhood</th>\n",
       "    </tr>\n",
       "  </thead>\n",
       "  <tbody>\n",
       "    <tr>\n",
       "      <th>0</th>\n",
       "      <td>0</td>\n",
       "      <td>Bar</td>\n",
       "      <td>Wine Shop</td>\n",
       "      <td>Highland Creek, Rouge Hill, Port Union</td>\n",
       "    </tr>\n",
       "    <tr>\n",
       "      <th>1</th>\n",
       "      <td>1</td>\n",
       "      <td>Coffee Shop</td>\n",
       "      <td>Coffee Shop</td>\n",
       "      <td>Queen's Park</td>\n",
       "    </tr>\n",
       "    <tr>\n",
       "      <th>2</th>\n",
       "      <td>2</td>\n",
       "      <td>Coffee Shop</td>\n",
       "      <td>Ethiopian Restaurant</td>\n",
       "      <td>Woburn</td>\n",
       "    </tr>\n",
       "    <tr>\n",
       "      <th>3</th>\n",
       "      <td>3</td>\n",
       "      <td>Fast Food Restaurant</td>\n",
       "      <td>Wine Shop</td>\n",
       "      <td>Caledonia-Fairbanks</td>\n",
       "    </tr>\n",
       "  </tbody>\n",
       "</table>\n",
       "</div>"
      ],
      "text/plain": [
       "  Cluster 1st Most Common Venue 2nd Most Common Venue  \\\n",
       "0       0                   Bar             Wine Shop   \n",
       "1       1           Coffee Shop           Coffee Shop   \n",
       "2       2           Coffee Shop  Ethiopian Restaurant   \n",
       "3       3  Fast Food Restaurant             Wine Shop   \n",
       "\n",
       "                             Neighborhood  \n",
       "0  Highland Creek, Rouge Hill, Port Union  \n",
       "1                            Queen's Park  \n",
       "2                                  Woburn  \n",
       "3                     Caledonia-Fairbanks  "
      ]
     },
     "execution_count": 39,
     "metadata": {},
     "output_type": "execute_result"
    }
   ],
   "source": [
    "summary = [['0', \n",
    "            cluster_0['1st Most Common Venue'].value_counts(ascending=False).index[0], \n",
    "            cluster_0['2nd Most Common Venue'].value_counts(ascending=False).index[0],\n",
    "            cluster_0['Neighborhood'].value_counts(ascending=False).index[0]],\n",
    "          ['1', \n",
    "           cluster_1['1st Most Common Venue'].value_counts(ascending=False).index[0], \n",
    "           cluster_1['2nd Most Common Venue'].value_counts(ascending=False).index[0],\n",
    "           cluster_1['Neighborhood'].value_counts(ascending=False).index[0]],\n",
    "          ['2', \n",
    "           cluster_2['1st Most Common Venue'].value_counts(ascending=False).index[0], \n",
    "           cluster_2['2nd Most Common Venue'].value_counts(ascending=False).index[0],\n",
    "           cluster_2['Neighborhood'].value_counts(ascending=False).index[0]],\n",
    "          ['3', \n",
    "           cluster_3['1st Most Common Venue'].value_counts(ascending=False).index[0], \n",
    "           cluster_3['2nd Most Common Venue'].value_counts(ascending=False).index[0],\n",
    "           cluster_3['Neighborhood'].value_counts(ascending=False).index[0]]]\n",
    "summary_table = pd.DataFrame(summary, columns=['Cluster', '1st Most Common Venue', '2nd Most Common Venue', 'Neighborhood'])\n",
    "summary_table"
   ]
  },
  {
   "cell_type": "markdown",
   "metadata": {},
   "source": [
    "Coffe Shop is the most common venue across all the clusters or neighborhoods."
   ]
  },
  {
   "cell_type": "markdown",
   "metadata": {},
   "source": [
    "# Conclusion"
   ]
  },
  {
   "cell_type": "markdown",
   "metadata": {},
   "source": [
    "In conclusion, the neighborhoods of Toronto City can be segmented into 4 clusters and upon analysis, it was possible to rename them basis upon the categories of venues in and around that neighborhood. Along with Coffee Shop, Fast Food Restaurant, Bar and Wine Shop are very dominant in Toronto City. This project can also be adjusted to use with other business."
   ]
  }
 ],
 "metadata": {
  "kernelspec": {
   "display_name": "Python 3",
   "language": "python",
   "name": "python3"
  },
  "language_info": {
   "codemirror_mode": {
    "name": "ipython",
    "version": 3
   },
   "file_extension": ".py",
   "mimetype": "text/x-python",
   "name": "python",
   "nbconvert_exporter": "python",
   "pygments_lexer": "ipython3",
   "version": "3.7.3"
  }
 },
 "nbformat": 4,
 "nbformat_minor": 2
}
