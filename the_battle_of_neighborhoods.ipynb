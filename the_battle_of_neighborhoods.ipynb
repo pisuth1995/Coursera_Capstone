{
 "cells": [
  {
   "cell_type": "markdown",
   "metadata": {},
   "source": [
    "# Introduction\n",
    "\n",
    "### Background\n",
    "Toronto is Canada's largest city, the fourth largest in North America, and home to a diverse population of about 2.8 million people. It is a global centre for business, finance, arts and culture and is consistently ranked one of the world's most livable cities.\n",
    "### Problem\n",
    "When you are looking to open a restaurant, location is the most important part of successful business. This project will segment the neighborhoods of Toronto into major clusters and examine their food. The results will help you to decide by discovering culture and variety of the neighborhood."
   ]
  },
  {
   "cell_type": "markdown",
   "metadata": {},
   "source": [
    "# Data \n",
    "\n",
    "### Toronto City Dataset\n",
    "Data will be scraped from https://en.wikipedia.org/wiki/List_of_postal_codes_of_Canada:_M. Data is consist of Post Code, Borough,  and Neighborhood. After Toronto City data is scraped, data will be preprocessed.\n",
    "\n",
    "### Geographical Coordinates\n",
    "Toronto City data will be mapped with the geographical coordinates of each postal code of Toronto City. link: http://cocl.us/Geospatial_data\n",
    "\n",
    "### Foursquare API\n",
    "Foursquare API, a location data provider, will be used to find the venues on each postal code zone using a radius based on the area cover by each neighborhoods."
   ]
  },
  {
   "cell_type": "code",
   "execution_count": null,
   "metadata": {},
   "outputs": [],
   "source": []
  }
 ],
 "metadata": {
  "kernelspec": {
   "display_name": "Python 3",
   "language": "python",
   "name": "python3"
  },
  "language_info": {
   "codemirror_mode": {
    "name": "ipython",
    "version": 3
   },
   "file_extension": ".py",
   "mimetype": "text/x-python",
   "name": "python",
   "nbconvert_exporter": "python",
   "pygments_lexer": "ipython3",
   "version": "3.6.7"
  }
 },
 "nbformat": 4,
 "nbformat_minor": 2
}
